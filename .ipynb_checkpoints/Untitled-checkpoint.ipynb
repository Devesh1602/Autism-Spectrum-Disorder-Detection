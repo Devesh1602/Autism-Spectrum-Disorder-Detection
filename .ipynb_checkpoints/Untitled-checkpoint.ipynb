{
 "cells": [
  {
   "cell_type": "code",
   "execution_count": 8,
   "id": "1df51d0f",
   "metadata": {},
   "outputs": [
    {
     "name": "stdout",
     "output_type": "stream",
     "text": [
      "Accuracy: 69.29%\n",
      "Classification Report:\n",
      "               precision    recall  f1-score   support\n",
      "\n",
      "           0       0.68      0.72      0.70       255\n",
      "           1       0.70      0.66      0.68       253\n",
      "\n",
      "    accuracy                           0.69       508\n",
      "   macro avg       0.69      0.69      0.69       508\n",
      "weighted avg       0.69      0.69      0.69       508\n",
      "\n"
     ]
    }
   ],
   "source": [
    "import os\n",
    "import cv2\n",
    "import numpy as np\n",
    "import pandas as pd\n",
    "from sklearn.ensemble import RandomForestClassifier\n",
    "from sklearn.metrics import accuracy_score, classification_report\n",
    "from skimage.feature import hog\n",
    "from sklearn.model_selection import train_test_split\n",
    "\n",
    "# Function to extract HOG features from an image\n",
    "def extract_hog_features(image):\n",
    "    # Convert the image to grayscale\n",
    "    gray = cv2.cvtColor(image, cv2.COLOR_BGR2GRAY)\n",
    "    # Extract HOG features\n",
    "    features, hog_image = hog(gray, pixels_per_cell=(8, 8), cells_per_block=(2, 2), visualize=True)\n",
    "    return features\n",
    "\n",
    "# Set the directory path for your training images\n",
    "train_dir = \"C:/Users/91809/Desktop/ARKS/05_ARKS_Early-Prediction-of-Autism-Disorder/AutismDataset/train\"\n",
    "\n",
    "# Load and preprocess images, and extract HOG features\n",
    "features = []\n",
    "labels = []\n",
    "\n",
    "for filename in os.listdir(train_dir):\n",
    "    img_path = os.path.join(train_dir, filename)\n",
    "    img = cv2.imread(img_path)\n",
    "    img = cv2.resize(img, (128, 128))  # You can adjust the image size\n",
    "    hog_features = extract_hog_features(img)\n",
    "    features.append(hog_features)\n",
    "    \n",
    "    # Assign labels (0 for Non_Autistic, 1 for Autistic) based on your dataset\n",
    "    if \"Non_Autistic\" in filename:\n",
    "        labels.append(0)\n",
    "    else:\n",
    "        labels.append(1)\n",
    "\n",
    "# Convert lists to NumPy arrays\n",
    "X = np.array(features)\n",
    "y = np.array(labels)\n",
    "\n",
    "# Split the data into training and validation sets\n",
    "X_train, X_val, y_train, y_val = train_test_split(X, y, test_size=0.2, random_state=42)\n",
    "\n",
    "# Initialize and train a Random Forest classifier\n",
    "classifier = RandomForestClassifier(n_estimators=100, random_state=42)\n",
    "classifier.fit(X_train, y_train)\n",
    "\n",
    "# Make predictions on the validation set\n",
    "y_pred = classifier.predict(X_val)\n",
    "\n",
    "# Evaluate the classifier\n",
    "accuracy = accuracy_score(y_val, y_pred)\n",
    "report = classification_report(y_val, y_pred)\n",
    "\n",
    "print(\"Accuracy: {:.2f}%\".format(accuracy * 100))\n",
    "print(\"Classification Report:\\n\", report)\n"
   ]
  },
  {
   "cell_type": "code",
   "execution_count": null,
   "id": "77dcc0ca",
   "metadata": {},
   "outputs": [],
   "source": []
  },
  {
   "cell_type": "code",
   "execution_count": 9,
   "id": "99f3cbb4",
   "metadata": {},
   "outputs": [
    {
     "name": "stdout",
     "output_type": "stream",
     "text": [
      "Model saved as random_forest_model.h5\n"
     ]
    }
   ],
   "source": [
    "import joblib\n",
    "\n",
    "# Save the trained Random Forest classifier\n",
    "model_filename = \"random_forest_model.h5\"\n",
    "joblib.dump(classifier, model_filename)\n",
    "\n",
    "print(f\"Model saved as {model_filename}\")\n"
   ]
  },
  {
   "cell_type": "code",
   "execution_count": 11,
   "id": "b9ecdb8d",
   "metadata": {},
   "outputs": [
    {
     "name": "stdout",
     "output_type": "stream",
     "text": [
      "Best Model Parameters: {'max_depth': 20, 'n_estimators': 300}\n",
      "Accuracy of Best Model on Validation Set: 72.24%\n",
      "Classification Report:\n",
      "               precision    recall  f1-score   support\n",
      "\n",
      "           0       0.73      0.72      0.72       255\n",
      "           1       0.72      0.73      0.72       253\n",
      "\n",
      "    accuracy                           0.72       508\n",
      "   macro avg       0.72      0.72      0.72       508\n",
      "weighted avg       0.72      0.72      0.72       508\n",
      "\n"
     ]
    }
   ],
   "source": [
    "import os\n",
    "import cv2\n",
    "import numpy as np\n",
    "from sklearn.ensemble import RandomForestClassifier\n",
    "from sklearn.metrics import accuracy_score, classification_report\n",
    "from skimage.feature import hog\n",
    "from sklearn.model_selection import train_test_split, GridSearchCV\n",
    "import joblib\n",
    "\n",
    "# Function to extract HOG features from an image\n",
    "def extract_hog_features(image):\n",
    "    # Convert the image to grayscale\n",
    "    gray = cv2.cvtColor(image, cv2.COLOR_BGR2GRAY)\n",
    "    # Extract HOG features\n",
    "    features, hog_image = hog(gray, pixels_per_cell=(8, 8), cells_per_block=(2, 2), visualize=True)\n",
    "    return features\n",
    "\n",
    "# Set the directory path for your training images\n",
    "train_dir = \"C:/Users/91809/Desktop/ARKS/05_ARKS_Early-Prediction-of-Autism-Disorder/AutismDataset/train\"\n",
    "\n",
    "# Load and preprocess images, and extract HOG features\n",
    "features = []\n",
    "labels = []\n",
    "\n",
    "for filename in os.listdir(train_dir):\n",
    "    img_path = os.path.join(train_dir, filename)\n",
    "    img = cv2.imread(img_path)\n",
    "    img = cv2.resize(img, (128, 128))  # You can adjust the image size\n",
    "    hog_features = extract_hog_features(img)\n",
    "    features.append(hog_features)\n",
    "    \n",
    "    # Assign labels (0 for Non_Autistic, 1 for Autistic) based on your dataset\n",
    "    if \"Non_Autistic\" in filename:\n",
    "        labels.append(0)\n",
    "    else:\n",
    "        labels.append(1)\n",
    "\n",
    "# Convert lists to NumPy arrays\n",
    "X = np.array(features)\n",
    "y = np.array(labels)\n",
    "\n",
    "# Split the data into training and validation sets\n",
    "X_train, X_val, y_train, y_val = train_test_split(X, y, test_size=0.2, random_state=42)\n",
    "\n",
    "# Define hyperparameter grid for GridSearchCV\n",
    "param_grid = {\n",
    "    'n_estimators': [100, 200, 300],\n",
    "    'max_depth': [None, 10, 20, 30],\n",
    "}\n",
    "\n",
    "# Initialize and train a Random Forest classifier\n",
    "rf = RandomForestClassifier(random_state=42)\n",
    "grid_search = GridSearchCV(rf, param_grid, cv=5, n_jobs=-1, scoring='accuracy')\n",
    "grid_search.fit(X_train, y_train)\n",
    "\n",
    "# Get the best model from the grid search\n",
    "best_rf = grid_search.best_estimator_\n",
    "\n",
    "# Save the best Random Forest classifier to a .h5 file\n",
    "joblib.dump(best_rf, 'best_random_forest_model.h5')\n",
    "\n",
    "# Make predictions on the validation set using the best model\n",
    "y_pred = best_rf.predict(X_val)\n",
    "\n",
    "# Evaluate the classifier\n",
    "accuracy = accuracy_score(y_val, y_pred)\n",
    "report = classification_report(y_val, y_pred)\n",
    "\n",
    "print(\"Best Model Parameters:\", grid_search.best_params_)\n",
    "print(\"Accuracy of Best Model on Validation Set: {:.2f}%\".format(accuracy * 100))\n",
    "print(\"Classification Report:\\n\", report)\n"
   ]
  },
  {
   "cell_type": "code",
   "execution_count": 12,
   "id": "b197e4ab",
   "metadata": {},
   "outputs": [
    {
     "name": "stdout",
     "output_type": "stream",
     "text": [
      "Model saved as random_forest_model_with_hyp.h5\n"
     ]
    }
   ],
   "source": [
    "import joblib\n",
    "\n",
    "# Save the trained Random Forest classifier\n",
    "model_filename = \"random_forest_model_with_hyp.h5\"\n",
    "joblib.dump(classifier, model_filename)\n",
    "\n",
    "print(f\"Model saved as {model_filename}\")"
   ]
  },
  {
   "cell_type": "code",
   "execution_count": null,
   "id": "a2f9d93a",
   "metadata": {},
   "outputs": [],
   "source": []
  }
 ],
 "metadata": {
  "kernelspec": {
   "display_name": "Python 3 (ipykernel)",
   "language": "python",
   "name": "python3"
  },
  "language_info": {
   "codemirror_mode": {
    "name": "ipython",
    "version": 3
   },
   "file_extension": ".py",
   "mimetype": "text/x-python",
   "name": "python",
   "nbconvert_exporter": "python",
   "pygments_lexer": "ipython3",
   "version": "3.10.9"
  }
 },
 "nbformat": 4,
 "nbformat_minor": 5
}
